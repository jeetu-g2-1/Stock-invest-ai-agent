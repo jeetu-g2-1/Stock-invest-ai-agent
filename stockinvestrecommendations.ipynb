{
  "cells": [
    {
      "cell_type": "markdown",
      "metadata": {
        "id": "view-in-github",
        "colab_type": "text"
      },
      "source": [
        "<a href=\"https://colab.research.google.com/github/jeetu-g2-1/Stock-invest-ai-agent/blob/main/stockinvestrecommendations.ipynb\" target=\"_parent\"><img src=\"https://colab.research.google.com/assets/colab-badge.svg\" alt=\"Open In Colab\"/></a>"
      ]
    },
    {
      "cell_type": "markdown",
      "id": "223203f6",
      "metadata": {
        "id": "223203f6"
      },
      "source": [
        "# Collect user data"
      ]
    },
    {
      "cell_type": "code",
      "execution_count": null,
      "id": "211ccf8c",
      "metadata": {
        "id": "211ccf8c"
      },
      "outputs": [],
      "source": [
        "user_profile = {\n",
        "    'risk_tolerance': 'moderate',\n",
        "    'investment_goals': 'long_term_growth',\n",
        "    'total_investment': 10000\n",
        "}\n"
      ]
    },
    {
      "cell_type": "markdown",
      "id": "a0f8f373",
      "metadata": {
        "id": "a0f8f373"
      },
      "source": [
        "# Fetch and analyze market data"
      ]
    },
    {
      "cell_type": "code",
      "execution_count": null,
      "id": "7da25bba",
      "metadata": {
        "id": "7da25bba"
      },
      "outputs": [],
      "source": [
        "import requests\n",
        "\n",
        "def get_company_data(symbol):\n",
        "    api_key = '1HRCG3M2TLBM8PIS'\n",
        "    url = f'https://www.alphavantage.co/query?function=OVERVIEW&symbol={symbol}&apikey={api_key}'\n",
        "    response = requests.get(url)\n",
        "    return response.json()\n",
        "\n",
        "company_list = ['AAPL', 'MSFT', 'GOOGL']\n",
        "company_data = [get_company_data(symbol) for symbol in company_list]\n"
      ]
    },
    {
      "cell_type": "markdown",
      "id": "1ded079c",
      "metadata": {
        "id": "1ded079c"
      },
      "source": [
        "# Recommendations"
      ]
    },
    {
      "cell_type": "code",
      "execution_count": null,
      "id": "3283a8fa",
      "metadata": {
        "id": "3283a8fa",
        "outputId": "6bb22917-dc8d-4e95-9fd8-9def3f31b8e8"
      },
      "outputs": [
        {
          "name": "stdout",
          "output_type": "stream",
          "text": [
            "Invest $2815.30 in AAPL\n",
            "Invest $4036.38 in MSFT\n",
            "Invest $3148.32 in GOOGL\n"
          ]
        }
      ],
      "source": [
        "def clean_value(value):\n",
        "    try:\n",
        "        return float(value)\n",
        "    except (TypeError, ValueError):\n",
        "        return 0.0\n",
        "\n",
        "def heuristic_score(company):\n",
        "    market_cap = clean_value(company.get('MarketCapitalization'))\n",
        "    pe_ratio = clean_value(company.get('PERatio'))\n",
        "    dividend_yield = clean_value(company.get('DividendYield'))\n",
        "    earnings_growth = clean_value(company.get('EPS')) / max(clean_value(company.get('PreviousClose')), 1)\n",
        "\n",
        "    # Simple heuristic: higher is better for dividend_yield and earnings_growth, lower is better for pe_ratio\n",
        "    score = (dividend_yield + earnings_growth) / (pe_ratio + 1)  # Avoid division by zero\n",
        "    return score\n",
        "\n",
        "def recommend_investment(amount, companies_data):\n",
        "    investment_recommendations = {}\n",
        "    for company in companies_data:\n",
        "        score = heuristic_score(company)\n",
        "        investment_recommendations[company['Symbol']] = score\n",
        "\n",
        "    total_score = sum(investment_recommendations.values())\n",
        "    for company in investment_recommendations:\n",
        "        investment_recommendations[company] = (investment_recommendations[company] / total_score) * amount\n",
        "\n",
        "    return investment_recommendations\n",
        "\n",
        "# Example usage\n",
        "recommendations = recommend_investment(user_profile['total_investment'], company_data)\n",
        "for company, amount in recommendations.items():\n",
        "    print(f\"Invest ${amount:.2f} in {company}\")\n"
      ]
    },
    {
      "cell_type": "markdown",
      "id": "2326e817",
      "metadata": {
        "id": "2326e817"
      },
      "source": [
        "# Output of recommendations"
      ]
    },
    {
      "cell_type": "code",
      "execution_count": null,
      "id": "a9df2469",
      "metadata": {
        "id": "a9df2469",
        "outputId": "55ed52db-2cd4-4665-ab44-9ece21cce3a9"
      },
      "outputs": [
        {
          "name": "stdout",
          "output_type": "stream",
          "text": [
            "Invest $2815.30 in AAPL\n",
            "Invest $4036.38 in MSFT\n",
            "Invest $3148.32 in GOOGL\n"
          ]
        }
      ],
      "source": [
        "for company, amount in recommendations.items():\n",
        "    print(f\"Invest ${amount:.2f} in {company}\")\n"
      ]
    },
    {
      "cell_type": "markdown",
      "id": "5a0b92b6",
      "metadata": {
        "id": "5a0b92b6"
      },
      "source": [
        "# Code explanation\n",
        "clean_value Function: This function attempts to convert a value to a float. If it encounters an error (e.g., the value is 'None' or not a number), it returns 0.0. This ensures that all numerical operations can proceed without throwing exceptions.\n",
        "heuristic_score Function: Uses clean_value to safely convert company data fields to floats, ensuring calculations proceed without errors.\n",
        "recommend_investment Function: Iterates over the company data, calculates a heuristic score for each company, and then distributes the investment amount proportionally based on these scores.\n"
      ]
    },
    {
      "cell_type": "code",
      "execution_count": null,
      "id": "d9270c5e",
      "metadata": {
        "id": "d9270c5e"
      },
      "outputs": [],
      "source": []
    }
  ],
  "metadata": {
    "kernelspec": {
      "display_name": "Python 3 (ipykernel)",
      "language": "python",
      "name": "python3"
    },
    "language_info": {
      "codemirror_mode": {
        "name": "ipython",
        "version": 3
      },
      "file_extension": ".py",
      "mimetype": "text/x-python",
      "name": "python",
      "nbconvert_exporter": "python",
      "pygments_lexer": "ipython3",
      "version": "3.9.13"
    },
    "colab": {
      "provenance": [],
      "include_colab_link": true
    }
  },
  "nbformat": 4,
  "nbformat_minor": 5
}