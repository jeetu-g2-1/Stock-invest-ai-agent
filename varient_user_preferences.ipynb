{
  "nbformat": 4,
  "nbformat_minor": 0,
  "metadata": {
    "colab": {
      "provenance": [],
      "authorship_tag": "ABX9TyNTklLaYwLwDQYumeM2RMyV",
      "include_colab_link": true
    },
    "kernelspec": {
      "name": "python3",
      "display_name": "Python 3"
    },
    "language_info": {
      "name": "python"
    }
  },
  "cells": [
    {
      "cell_type": "markdown",
      "metadata": {
        "id": "view-in-github",
        "colab_type": "text"
      },
      "source": [
        "<a href=\"https://colab.research.google.com/github/jeetu-g2-1/Stock-invest-ai-agent/blob/main/varient_user_preferences.ipynb\" target=\"_parent\"><img src=\"https://colab.research.google.com/assets/colab-badge.svg\" alt=\"Open In Colab\"/></a>"
      ]
    },
    {
      "cell_type": "code",
      "execution_count": 1,
      "metadata": {
        "colab": {
          "base_uri": "https://localhost:8080/"
        },
        "id": "lfnvG6Mc8EdA",
        "outputId": "8a8c2198-3c21-49a3-80fa-fb242a0bbf47"
      },
      "outputs": [
        {
          "output_type": "stream",
          "name": "stdout",
          "text": [
            "Invest $2122.08 in AAPL\n",
            "Invest $5464.16 in MSFT\n",
            "Invest $2413.76 in GOOGL\n"
          ]
        }
      ],
      "source": [
        "import requests\n",
        "\n",
        "def get_company_data(symbol):\n",
        "    api_key = '1HRCG3M2TLBM8PIS'\n",
        "    url = f'https://www.alphavantage.co/query?function=OVERVIEW&symbol={symbol}&apikey={api_key}'\n",
        "    response = requests.get(url)\n",
        "    return response.json()\n",
        "\n",
        "def clean_value(value):\n",
        "    try:\n",
        "        return float(value)\n",
        "    except (TypeError, ValueError):\n",
        "        return 0.0\n",
        "\n",
        "def heuristic_score(company, profile):\n",
        "    market_cap = clean_value(company.get('MarketCapitalization'))\n",
        "    pe_ratio = clean_value(company.get('PERatio'))\n",
        "    dividend_yield = clean_value(company.get('DividendYield'))\n",
        "    earnings_growth = clean_value(company.get('EPS')) / max(clean_value(company.get('PreviousClose')), 1)\n",
        "\n",
        "    if profile['risk_tolerance'] == 'conservative':\n",
        "        score = (dividend_yield + 1 / (pe_ratio + 1)) * 2\n",
        "    elif profile['risk_tolerance'] == 'moderate':\n",
        "        score = (dividend_yield + earnings_growth) / (pe_ratio + 1)\n",
        "    elif profile['risk_tolerance'] == 'aggressive':\n",
        "        score = earnings_growth\n",
        "    else:\n",
        "        score = 0\n",
        "\n",
        "    if profile['investment_goals'] == 'long_term_growth':\n",
        "        score *= earnings_growth\n",
        "    elif profile['investment_goals'] == 'short_term_income':\n",
        "        score *= dividend_yield\n",
        "\n",
        "    return score\n",
        "\n",
        "def recommend_investment(amount, companies_data, profile):\n",
        "    investment_recommendations = {}\n",
        "    for company in companies_data:\n",
        "        score = heuristic_score(company, profile)\n",
        "        investment_recommendations[company['Symbol']] = score\n",
        "\n",
        "    total_score = sum(investment_recommendations.values())\n",
        "    for company in investment_recommendations:\n",
        "        investment_recommendations[company] = (investment_recommendations[company] / total_score) * amount\n",
        "\n",
        "    return investment_recommendations\n",
        "\n",
        "# Example usage\n",
        "user_profile = {\n",
        "    'risk_tolerance': 'moderate',\n",
        "    'investment_goals': 'long_term_growth',\n",
        "    'total_investment': 10000\n",
        "}\n",
        "\n",
        "company_list = ['AAPL', 'MSFT', 'GOOGL']\n",
        "company_data = [get_company_data(symbol) for symbol in company_list]\n",
        "\n",
        "recommendations = recommend_investment(user_profile['total_investment'], company_data, user_profile)\n",
        "for company, amount in recommendations.items():\n",
        "    print(f\"Invest ${amount:.2f} in {company}\")\n"
      ]
    },
    {
      "cell_type": "code",
      "source": [],
      "metadata": {
        "id": "Hh-RIGKb8F4W"
      },
      "execution_count": null,
      "outputs": []
    }
  ]
}